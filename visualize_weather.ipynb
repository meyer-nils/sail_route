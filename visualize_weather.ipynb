{
 "cells": [
  {
   "attachments": {},
   "cell_type": "markdown",
   "metadata": {},
   "source": [
    "# Visualize GRIB file weather"
   ]
  },
  {
   "cell_type": "code",
   "execution_count": 1,
   "metadata": {},
   "outputs": [],
   "source": [
    "import glob\n",
    "\n",
    "import ipywidgets as widgets\n",
    "import numpy as np\n",
    "import xarray as xr\n",
    "import matplotlib.pyplot as plt\n",
    "from mpl_toolkits.basemap import Basemap"
   ]
  },
  {
   "cell_type": "code",
   "execution_count": 2,
   "metadata": {},
   "outputs": [],
   "source": [
    "files = glob.glob(\"weather/*.grb\")\n",
    "for file in files:\n",
    "    ds = xr.open_dataset(file, engine='cfgrib')\n",
    "\n",
    "lons = ds[\"longitude\"]\n",
    "lats = ds[\"latitude\"]\n",
    "wind_magnitude = np.sqrt(ds[\"u10\"]**2 + ds[\"v10\"]**2)\n",
    "wind_direction = np.sqrt(ds[\"u10\"]**2 + ds[\"v10\"]**2)\n",
    "\n",
    "m = Basemap(\n",
    "    llcrnrlon=min(lons),\n",
    "    llcrnrlat=min(lats),\n",
    "    urcrnrlon=max(lons),\n",
    "    urcrnrlat=max(lats),\n",
    "    resolution=\"h\",\n",
    "    projection=\"merc\",\n",
    ")"
   ]
  },
  {
   "cell_type": "code",
   "execution_count": 3,
   "metadata": {},
   "outputs": [
    {
     "data": {
      "application/vnd.jupyter.widget-view+json": {
       "model_id": "747c261451ab43659e4df1c9ca6d1198",
       "version_major": 2,
       "version_minor": 0
      },
      "text/plain": [
       "interactive(children=(IntSlider(value=0, description='i', max=16), Output()), _dom_classes=('widget-interact',…"
      ]
     },
     "metadata": {},
     "output_type": "display_data"
    },
    {
     "data": {
      "text/plain": [
       "<function __main__.plot_func(i)>"
      ]
     },
     "execution_count": 3,
     "metadata": {},
     "output_type": "execute_result"
    }
   ],
   "source": [
    "def plot_func(i):\n",
    "    m.drawcoastlines()\n",
    "    m.fillcontinents()\n",
    "    alons, alats = np.meshgrid(lons, lats)\n",
    "    # Velocity\n",
    "    x, y = m(alons, alats)\n",
    "    m.contourf(x,y, wind_magnitude[i])\n",
    "\n",
    "    plt.colorbar()\n",
    "    plt.show()\n",
    "\n",
    "widgets.interact(plot_func, i = widgets.IntSlider(value=0,\n",
    "                                               min=0,\n",
    "                                               max=len(ds[\"u10\"])-1,\n",
    "                                               step=1))"
   ]
  }
 ],
 "metadata": {
  "kernelspec": {
   "display_name": "sailing",
   "language": "python",
   "name": "python3"
  },
  "language_info": {
   "codemirror_mode": {
    "name": "ipython",
    "version": 3
   },
   "file_extension": ".py",
   "mimetype": "text/x-python",
   "name": "python",
   "nbconvert_exporter": "python",
   "pygments_lexer": "ipython3",
   "version": "3.9.15"
  },
  "orig_nbformat": 4,
  "vscode": {
   "interpreter": {
    "hash": "88849b4cdda33f41f134eb736bf0b0edeb0f039db57a23340b8b674745d7e5f4"
   }
  }
 },
 "nbformat": 4,
 "nbformat_minor": 2
}
