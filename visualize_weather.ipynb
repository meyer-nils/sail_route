{
 "cells": [
  {
   "attachments": {},
   "cell_type": "markdown",
   "metadata": {},
   "source": [
    "# Visualize GRIB file weather"
   ]
  },
  {
   "cell_type": "code",
   "execution_count": 1,
   "metadata": {},
   "outputs": [],
   "source": [
    "import glob\n",
    "\n",
    "import ipywidgets as widgets\n",
    "import matplotlib.pyplot as plt\n",
    "import numpy as np\n",
    "import xarray as xr\n",
    "from mpl_toolkits.basemap import Basemap"
   ]
  },
  {
   "cell_type": "code",
   "execution_count": 2,
   "metadata": {},
   "outputs": [],
   "source": [
    "files = glob.glob(\"weather/*.grb\")\n",
    "for file in files:\n",
    "    ds = xr.open_dataset(file, engine=\"cfgrib\")\n",
    "\n",
    "lons = ds[\"longitude\"]\n",
    "lats = ds[\"latitude\"]\n",
    "wind_magnitude = np.sqrt(ds[\"u10\"] ** 2 + ds[\"v10\"] ** 2)\n",
    "wind_direction = np.rad2deg(np.arctan(-ds[\"v10\"] / (ds[\"u10\"] + 0.001))) - 90.0\n",
    "\n",
    "m = Basemap(\n",
    "    llcrnrlon=min(lons),\n",
    "    llcrnrlat=min(lats),\n",
    "    urcrnrlon=max(lons),\n",
    "    urcrnrlat=max(lats),\n",
    "    resolution=\"h\",\n",
    "    projection=\"merc\",\n",
    ")"
   ]
  },
  {
   "cell_type": "code",
   "execution_count": 3,
   "metadata": {},
   "outputs": [
    {
     "data": {
      "application/vnd.jupyter.widget-view+json": {
       "model_id": "e4f02a08f113427288df63fb59df4f6e",
       "version_major": 2,
       "version_minor": 0
      },
      "text/plain": [
       "interactive(children=(IntSlider(value=0, description='i', max=168), Output()), _dom_classes=('widget-interact'…"
      ]
     },
     "metadata": {},
     "output_type": "display_data"
    },
    {
     "data": {
      "text/plain": [
       "<function __main__.plot_func(i)>"
      ]
     },
     "execution_count": 3,
     "metadata": {},
     "output_type": "execute_result"
    }
   ],
   "source": [
    "def plot_func(i):\n",
    "    m.drawcoastlines()\n",
    "    m.fillcontinents()\n",
    "    alons, alats = np.meshgrid(lons, lats)\n",
    "\n",
    "    # Velocity\n",
    "    x, y = m(alons, alats)\n",
    "    m.contourf(x, y, wind_magnitude[i], cmap=\"magma\", alpha=0.5)\n",
    "\n",
    "    # Plot wind barbs\n",
    "    alons, alats = np.meshgrid(lons, lats)\n",
    "    xx, yy = m(alons, alats)\n",
    "    vx = -wind_magnitude[i] * np.sin(np.deg2rad(wind_direction[i]))\n",
    "    vy = -wind_magnitude[i] * np.cos(np.deg2rad(wind_direction[i]))\n",
    "    m.barbs(xx[::2, ::2], yy[::2, ::2], vx[::2, ::2], vy[::2, ::2], length=5, color=\"k\")\n",
    "\n",
    "    plt.colorbar()\n",
    "    plt.show()\n",
    "\n",
    "\n",
    "widgets.interact(\n",
    "    plot_func, i=widgets.IntSlider(value=0, min=0, max=len(ds[\"u10\"]) - 1, step=1)\n",
    ")"
   ]
  }
 ],
 "metadata": {
  "kernelspec": {
   "display_name": "sailing",
   "language": "python",
   "name": "python3"
  },
  "language_info": {
   "codemirror_mode": {
    "name": "ipython",
    "version": 3
   },
   "file_extension": ".py",
   "mimetype": "text/x-python",
   "name": "python",
   "nbconvert_exporter": "python",
   "pygments_lexer": "ipython3",
   "version": "3.9.15"
  },
  "orig_nbformat": 4,
  "vscode": {
   "interpreter": {
    "hash": "88849b4cdda33f41f134eb736bf0b0edeb0f039db57a23340b8b674745d7e5f4"
   }
  }
 },
 "nbformat": 4,
 "nbformat_minor": 2
}
