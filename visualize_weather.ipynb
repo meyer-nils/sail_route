{
 "cells": [
  {
   "attachments": {},
   "cell_type": "markdown",
   "metadata": {},
   "source": [
    "# Visualize GRIB file weather"
   ]
  },
  {
   "cell_type": "code",
   "execution_count": 2,
   "metadata": {},
   "outputs": [],
   "source": [
    "import glob\n",
    "\n",
    "import ipywidgets as widgets\n",
    "import numpy as np\n",
    "import xarray as xr\n",
    "import matplotlib.pyplot as plt\n",
    "from mpl_toolkits.basemap import Basemap"
   ]
  },
  {
   "cell_type": "code",
   "execution_count": 3,
   "metadata": {},
   "outputs": [
    {
     "name": "stdout",
     "output_type": "stream",
     "text": [
      "<xarray.Dataset>\n",
      "Dimensions:            (step: 17, latitude: 195, longitude: 278)\n",
      "Coordinates:\n",
      "    time               datetime64[ns] ...\n",
      "  * step               (step) timedelta64[ns] 0 days 06:00:00 ... 2 days 06:0...\n",
      "    heightAboveGround  float64 ...\n",
      "  * latitude           (latitude) float64 60.0 59.96 59.93 ... 53.09 53.05 53.02\n",
      "  * longitude          (longitude) float64 5.0 5.036 5.072 ... 14.9 14.94 14.97\n",
      "    valid_time         (step) datetime64[ns] ...\n",
      "Data variables:\n",
      "    u10                (step, latitude, longitude) float32 ...\n",
      "    v10                (step, latitude, longitude) float32 ...\n",
      "Attributes:\n",
      "    GRIB_edition:            1\n",
      "    GRIB_centre:             consensus\n",
      "    GRIB_centreDescription:  Consensus\n",
      "    GRIB_subCentre:          0\n",
      "    Conventions:             CF-1.7\n",
      "    institution:             Consensus\n",
      "    history:                 2023-01-30T15:28 GRIB to CDM+CF via cfgrib-0.9.1...\n"
     ]
    }
   ],
   "source": [
    "files = glob.glob(\"weather/*.grb\")\n",
    "for file in files:\n",
    "    ds = xr.open_dataset(file, engine='cfgrib')\n",
    "\n",
    "print(ds)\n",
    "\n",
    "lons = ds[\"longitude\"]\n",
    "lats = ds[\"latitude\"]\n",
    "wind_magnitude = np.sqrt(ds[\"u10\"]**2 + ds[\"v10\"]**2)\n",
    "wind_direction = np.sqrt(ds[\"u10\"]**2 + ds[\"v10\"]**2)\n",
    "\n",
    "m = Basemap(\n",
    "    llcrnrlon=min(lons),\n",
    "    llcrnrlat=min(lats),\n",
    "    urcrnrlon=max(lons),\n",
    "    urcrnrlat=max(lats),\n",
    "    resolution=\"h\",\n",
    "    projection=\"merc\",\n",
    ")"
   ]
  },
  {
   "cell_type": "code",
   "execution_count": 4,
   "metadata": {},
   "outputs": [
    {
     "data": {
      "application/vnd.jupyter.widget-view+json": {
       "model_id": "706a8c8faece4dd182bc4a7f512d4993",
       "version_major": 2,
       "version_minor": 0
      },
      "text/plain": [
       "interactive(children=(IntSlider(value=0, description='i', max=17), Output()), _dom_classes=('widget-interact',…"
      ]
     },
     "metadata": {},
     "output_type": "display_data"
    },
    {
     "data": {
      "text/plain": [
       "<function __main__.plot_func(i)>"
      ]
     },
     "execution_count": 4,
     "metadata": {},
     "output_type": "execute_result"
    }
   ],
   "source": [
    "def plot_func(i):\n",
    "    m.drawcoastlines()\n",
    "    m.fillcontinents()\n",
    "    alons, alats = np.meshgrid(lons, lats)\n",
    "    # Velocity\n",
    "    x, y = m(alons, alats)\n",
    "    m.contourf(x,y, wind_magnitude[i])\n",
    "\n",
    "    plt.colorbar()\n",
    "    plt.show()\n",
    "\n",
    "widgets.interact(plot_func, i = widgets.IntSlider(value=0,\n",
    "                                               min=0,\n",
    "                                               max=len(ds[\"u10\"]),\n",
    "                                               step=1))"
   ]
  }
 ],
 "metadata": {
  "kernelspec": {
   "display_name": "sailing",
   "language": "python",
   "name": "python3"
  },
  "language_info": {
   "codemirror_mode": {
    "name": "ipython",
    "version": 3
   },
   "file_extension": ".py",
   "mimetype": "text/x-python",
   "name": "python",
   "nbconvert_exporter": "python",
   "pygments_lexer": "ipython3",
   "version": "3.9.15 | packaged by conda-forge | (main, Nov 22 2022, 08:48:25) \n[Clang 14.0.6 ]"
  },
  "orig_nbformat": 4,
  "vscode": {
   "interpreter": {
    "hash": "88849b4cdda33f41f134eb736bf0b0edeb0f039db57a23340b8b674745d7e5f4"
   }
  }
 },
 "nbformat": 4,
 "nbformat_minor": 2
}
